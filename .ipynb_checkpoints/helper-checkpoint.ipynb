{
 "cells": [
  {
   "cell_type": "code",
   "execution_count": 1,
   "id": "fca81e03",
   "metadata": {},
   "outputs": [],
   "source": [
    "import pandas as pd\n",
    "from isr import ISR"
   ]
  },
  {
   "cell_type": "code",
   "execution_count": 2,
   "id": "42d98ba9",
   "metadata": {},
   "outputs": [],
   "source": [
    "calculo = ISR()"
   ]
  },
  {
   "cell_type": "code",
   "execution_count": 3,
   "id": "80d27008",
   "metadata": {},
   "outputs": [
    {
     "data": {
      "text/plain": [
       "-155.33"
      ]
     },
     "execution_count": 3,
     "metadata": {},
     "output_type": "execute_result"
    }
   ],
   "source": [
    "sueldo = 4000\n",
    "ISR.function_isr(sueldo)"
   ]
  },
  {
   "cell_type": "code",
   "execution_count": 4,
   "id": "87caba53",
   "metadata": {},
   "outputs": [
    {
     "data": {
      "text/plain": [
       "[12450.76, 13001.24]"
      ]
     },
     "execution_count": 4,
     "metadata": {},
     "output_type": "execute_result"
    }
   ],
   "source": [
    "comp=[14000-ISR.function_isr(14000),(14000*1.05)-ISR.function_isr(14000*1.05)]\n",
    "comp"
   ]
  },
  {
   "cell_type": "code",
   "execution_count": 5,
   "id": "e67a7479",
   "metadata": {},
   "outputs": [
    {
     "data": {
      "text/plain": [
       "14700.0"
      ]
     },
     "execution_count": 5,
     "metadata": {},
     "output_type": "execute_result"
    }
   ],
   "source": [
    "14000*1.05"
   ]
  },
  {
   "cell_type": "code",
   "execution_count": 6,
   "id": "61eda718",
   "metadata": {},
   "outputs": [],
   "source": [
    "base = 17800"
   ]
  },
  {
   "cell_type": "code",
   "execution_count": 7,
   "id": "03fa06d9",
   "metadata": {},
   "outputs": [
    {
     "data": {
      "text/plain": [
       "[7719.54, 7529.4400000000005]"
      ]
     },
     "execution_count": 7,
     "metadata": {},
     "output_type": "execute_result"
    }
   ],
   "source": [
    "comp=[base/2-ISR.function_isr(base)/2,(((base*1.05)-base/2)-(ISR.function_isr(base*1.05)-ISR.function_isr(base)/2))-base*.05]\n",
    "comp"
   ]
  },
  {
   "cell_type": "code",
   "execution_count": 8,
   "id": "2f0adb1e",
   "metadata": {},
   "outputs": [
    {
     "data": {
      "text/plain": [
       "9790.0"
      ]
     },
     "execution_count": 8,
     "metadata": {},
     "output_type": "execute_result"
    }
   ],
   "source": [
    "(((base*1.05)-base/2))"
   ]
  },
  {
   "cell_type": "code",
   "execution_count": 9,
   "id": "aa01e01b",
   "metadata": {},
   "outputs": [
    {
     "data": {
      "text/plain": [
       "[7719.54, 8419.44]"
      ]
     },
     "execution_count": 9,
     "metadata": {},
     "output_type": "execute_result"
    }
   ],
   "source": [
    "comp=[base/2-ISR.function_isr(base)/2,(((base*1.05)-base/2)-(ISR.function_isr(base*1.05)-ISR.function_isr(base)/2))]\n",
    "comp"
   ]
  },
  {
   "cell_type": "code",
   "execution_count": 10,
   "id": "2404b6c7",
   "metadata": {},
   "outputs": [],
   "source": [
    "def diferencias(base, monto):\n",
    "    calculo1 = ISR()\n",
    "    calculo1.set_sueldo_base(base)\n",
    "    calculo2 = ISR()\n",
    "    calculo2.set_sueldo_base(base+monto)    \n",
    "    q_1 = base/2 - calculo1.impuesto_a_retener()/2\n",
    "    q_2 = ((base + monto) - base/2) - (calculo2.impuesto_a_retener() - (calculo1.impuesto_a_retener()/2))\n",
    "    q_2 = q_2 - monto\n",
    "    return (round(q_1,2),round(q_2,2))\n",
    "    "
   ]
  },
  {
   "cell_type": "code",
   "execution_count": 11,
   "id": "eedcc844",
   "metadata": {},
   "outputs": [
    {
     "name": "stdout",
     "output_type": "stream",
     "text": [
      "(7719.54, 7529.44)\n"
     ]
    }
   ],
   "source": [
    "print(diferencias(17800.0,(17800*0.05)))"
   ]
  },
  {
   "cell_type": "code",
   "execution_count": 12,
   "id": "10c55fba",
   "metadata": {},
   "outputs": [],
   "source": [
    "primer, segunda = diferencias(17800.0,(17800*0.05))"
   ]
  },
  {
   "cell_type": "code",
   "execution_count": 13,
   "id": "70f70cf1",
   "metadata": {},
   "outputs": [
    {
     "data": {
      "text/plain": [
       "7719.54"
      ]
     },
     "execution_count": 13,
     "metadata": {},
     "output_type": "execute_result"
    }
   ],
   "source": [
    "primer"
   ]
  },
  {
   "cell_type": "code",
   "execution_count": 14,
   "id": "883d0ca9",
   "metadata": {},
   "outputs": [],
   "source": [
    "def gratificacion(base, monto):\n",
    "    calculo1 = ISR()\n",
    "    calculo1.set_sueldo_base(base)\n",
    "    calculo2 = ISR()\n",
    "    calculo2.set_sueldo_base(base+monto)\n",
    "    primera, segunda = diferencias(base,monto)\n",
    "    temp = 0\n",
    "    while primera >= segunda:\n",
    "        temp += 1\n",
    "        calculo2.set_sueldo_base(base+monto+temp)\n",
    "        new_base = base + monto + temp\n",
    "        segunda = ((new_base) - base/2) - (calculo2.impuesto_a_retener() - (calculo1.impuesto_a_retener()/2)) - monto\n",
    "    return temp"
   ]
  },
  {
   "cell_type": "code",
   "execution_count": 15,
   "id": "da6db681",
   "metadata": {},
   "outputs": [
    {
     "name": "stdout",
     "output_type": "stream",
     "text": [
      "242\n"
     ]
    }
   ],
   "source": [
    "base = 17800\n",
    "monto = base * 0.05\n",
    "\n",
    "print(gratificacion(base, monto))"
   ]
  },
  {
   "cell_type": "code",
   "execution_count": 16,
   "id": "2c91a5d1",
   "metadata": {},
   "outputs": [
    {
     "data": {
      "text/plain": [
       "7719.75"
      ]
     },
     "execution_count": 16,
     "metadata": {},
     "output_type": "execute_result"
    }
   ],
   "source": [
    "base = 17800\n",
    "\n",
    "\n",
    "salario = base*1.05+242-(base/2) - (ISR.function_isr(base*1.05+242)-ISR.function_isr(base)/2)\n",
    "salario-(base*0.05)"
   ]
  },
  {
   "cell_type": "code",
   "execution_count": 17,
   "id": "b6d3485d",
   "metadata": {},
   "outputs": [
    {
     "name": "stdout",
     "output_type": "stream",
     "text": [
      "174\n"
     ]
    }
   ],
   "source": [
    "base = 13238\n",
    "monto = base * 0.05\n",
    "\n",
    "print(gratificacion(base, monto))"
   ]
  },
  {
   "cell_type": "code",
   "execution_count": 18,
   "id": "e5300ebe",
   "metadata": {},
   "outputs": [],
   "source": [
    "class Gratificacion():\n",
    "    \n",
    "    def set_data(self, base, monto):\n",
    "        self.base = base\n",
    "        self.monto = monto\n",
    "        \n",
    "    def get_data(self):\n",
    "        return (self.base, self.monto)\n",
    "    \n",
    "    def diferencias(self):\n",
    "        calculo1 = ISR()\n",
    "        calculo1.set_sueldo_base(self.base)\n",
    "        calculo2 = ISR()\n",
    "        calculo2.set_sueldo_base(self.base+self.monto)    \n",
    "        q_1 = self.base/2 - calculo1.impuesto_a_retener()/2\n",
    "        q_2 = ((self.base + self.monto) - self.base/2) - (calculo2.impuesto_a_retener() - (calculo1.impuesto_a_retener()/2))\n",
    "        q_2 = q_2 - self.monto\n",
    "        return (round(q_1,2),round(q_2,2))\n",
    "    \n",
    "    \n",
    "    def gratificacion(self):\n",
    "        calculo1 = ISR()\n",
    "        calculo1.set_sueldo_base(self.base)\n",
    "        calculo2 = ISR()\n",
    "        calculo2.set_sueldo_base(self.base + self.monto)\n",
    "        primera, segunda = self.diferencias()\n",
    "        temp = 0\n",
    "        while primera >= segunda:\n",
    "            temp += 0.01\n",
    "            calculo2.set_sueldo_base(self.base + self.monto + temp)\n",
    "            new_base = self.base + self.monto + temp\n",
    "            segunda = ((new_base) - self.base/2) - (calculo2.impuesto_a_retener() - (calculo1.impuesto_a_retener()/2)) - self.monto\n",
    "        return temp\n",
    "    "
   ]
  },
  {
   "cell_type": "code",
   "execution_count": 19,
   "id": "d6d00ca5",
   "metadata": {},
   "outputs": [
    {
     "data": {
      "text/plain": [
       "(5923.3, 5786.85)"
      ]
     },
     "execution_count": 19,
     "metadata": {},
     "output_type": "execute_result"
    }
   ],
   "source": [
    "juan = Gratificacion()\n",
    "juan.set_data(13238,13238*.05)\n",
    "juan.diferencias()"
   ]
  },
  {
   "cell_type": "code",
   "execution_count": 20,
   "id": "934886a6",
   "metadata": {},
   "outputs": [
    {
     "data": {
      "text/plain": [
       "(13238, 661.9000000000001)"
      ]
     },
     "execution_count": 20,
     "metadata": {},
     "output_type": "execute_result"
    }
   ],
   "source": [
    "juan.get_data()"
   ]
  },
  {
   "cell_type": "code",
   "execution_count": 21,
   "id": "b097e443",
   "metadata": {},
   "outputs": [
    {
     "data": {
      "text/plain": [
       "173.51999999998716"
      ]
     },
     "execution_count": 21,
     "metadata": {},
     "output_type": "execute_result"
    }
   ],
   "source": [
    "juan.gratificacion()"
   ]
  },
  {
   "cell_type": "code",
   "execution_count": null,
   "id": "1ce340a7",
   "metadata": {},
   "outputs": [],
   "source": []
  },
  {
   "cell_type": "code",
   "execution_count": null,
   "id": "423060c6",
   "metadata": {},
   "outputs": [],
   "source": []
  },
  {
   "cell_type": "code",
   "execution_count": null,
   "id": "f259303b",
   "metadata": {},
   "outputs": [],
   "source": []
  },
  {
   "cell_type": "code",
   "execution_count": 22,
   "id": "90d5173d",
   "metadata": {},
   "outputs": [
    {
     "data": {
      "text/plain": [
       "[7719.54, 7529.4400000000005]"
      ]
     },
     "execution_count": 22,
     "metadata": {},
     "output_type": "execute_result"
    }
   ],
   "source": [
    "base = 17800\n",
    "comp=[base/2-ISR.function_isr(base)/2,(((base*1.05)-base/2)-(ISR.function_isr(base*1.05)-ISR.function_isr(base)/2))-base*.05]\n",
    "comp"
   ]
  },
  {
   "cell_type": "code",
   "execution_count": null,
   "id": "5a36a22e",
   "metadata": {},
   "outputs": [],
   "source": []
  },
  {
   "cell_type": "code",
   "execution_count": 23,
   "id": "96793cc9",
   "metadata": {},
   "outputs": [
    {
     "data": {
      "text/plain": [
       "9790.0"
      ]
     },
     "execution_count": 23,
     "metadata": {},
     "output_type": "execute_result"
    }
   ],
   "source": [
    "(((base*1.05)-base/2))"
   ]
  },
  {
   "cell_type": "code",
   "execution_count": 24,
   "id": "f502c5c3",
   "metadata": {},
   "outputs": [
    {
     "data": {
      "text/plain": [
       "18690.0"
      ]
     },
     "execution_count": 24,
     "metadata": {},
     "output_type": "execute_result"
    }
   ],
   "source": [
    "base*1.05"
   ]
  },
  {
   "cell_type": "code",
   "execution_count": null,
   "id": "716593da",
   "metadata": {},
   "outputs": [],
   "source": []
  }
 ],
 "metadata": {
  "kernelspec": {
   "display_name": "Python 3",
   "language": "python",
   "name": "python3"
  },
  "language_info": {
   "codemirror_mode": {
    "name": "ipython",
    "version": 3
   },
   "file_extension": ".py",
   "mimetype": "text/x-python",
   "name": "python",
   "nbconvert_exporter": "python",
   "pygments_lexer": "ipython3",
   "version": "3.9.7"
  }
 },
 "nbformat": 4,
 "nbformat_minor": 5
}
