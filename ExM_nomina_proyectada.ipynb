{
 "cells": [
  {
   "cell_type": "code",
   "execution_count": 1,
   "id": "996c4424",
   "metadata": {},
   "outputs": [],
   "source": [
    "import pandas as pd\n",
    "from cuotasimss import CuotasImss\n",
    "from imss import CalculoIMSSObrero, CalculoIMSSPatron\n",
    "from isr import ISR\n",
    "from datetime import datetime\n",
    "from sbc import SBC\n",
    "pd.options.display.float_format = '{:,.2f}'.format"
   ]
  },
  {
   "cell_type": "code",
   "execution_count": 2,
   "id": "094dbad0",
   "metadata": {},
   "outputs": [
    {
     "data": {
      "text/html": [
       "<div>\n",
       "<style scoped>\n",
       "    .dataframe tbody tr th:only-of-type {\n",
       "        vertical-align: middle;\n",
       "    }\n",
       "\n",
       "    .dataframe tbody tr th {\n",
       "        vertical-align: top;\n",
       "    }\n",
       "\n",
       "    .dataframe thead th {\n",
       "        text-align: right;\n",
       "    }\n",
       "</style>\n",
       "<table border=\"1\" class=\"dataframe\">\n",
       "  <thead>\n",
       "    <tr style=\"text-align: right;\">\n",
       "      <th></th>\n",
       "      <th>Id</th>\n",
       "      <th>Nombre</th>\n",
       "      <th>Sueldo mensual</th>\n",
       "      <th>Vales</th>\n",
       "      <th>Fecha Ingreso</th>\n",
       "    </tr>\n",
       "  </thead>\n",
       "  <tbody>\n",
       "    <tr>\n",
       "      <th>0</th>\n",
       "      <td>1</td>\n",
       "      <td>Martha Rosa Alvarez Martínez</td>\n",
       "      <td>33,256.68</td>\n",
       "      <td>1500</td>\n",
       "      <td>2019-06-03</td>\n",
       "    </tr>\n",
       "    <tr>\n",
       "      <th>1</th>\n",
       "      <td>2</td>\n",
       "      <td>Tania Monserrat Bañuelos Murillo</td>\n",
       "      <td>25,931.50</td>\n",
       "      <td>1297</td>\n",
       "      <td>2019-06-17</td>\n",
       "    </tr>\n",
       "    <tr>\n",
       "      <th>2</th>\n",
       "      <td>6</td>\n",
       "      <td>Karla Berenice Cano Garcia</td>\n",
       "      <td>22,960.82</td>\n",
       "      <td>1148</td>\n",
       "      <td>2019-07-23</td>\n",
       "    </tr>\n",
       "    <tr>\n",
       "      <th>3</th>\n",
       "      <td>7</td>\n",
       "      <td>Jonathan Covarrubias Sustaita</td>\n",
       "      <td>21,719.58</td>\n",
       "      <td>1086</td>\n",
       "      <td>2019-03-04</td>\n",
       "    </tr>\n",
       "    <tr>\n",
       "      <th>4</th>\n",
       "      <td>8</td>\n",
       "      <td>Miguel Dionicio Luna</td>\n",
       "      <td>27,315.62</td>\n",
       "      <td>1366</td>\n",
       "      <td>2018-01-09</td>\n",
       "    </tr>\n",
       "  </tbody>\n",
       "</table>\n",
       "</div>"
      ],
      "text/plain": [
       "   Id                            Nombre  Sueldo mensual  Vales Fecha Ingreso\n",
       "0   1      Martha Rosa Alvarez Martínez       33,256.68   1500    2019-06-03\n",
       "1   2  Tania Monserrat Bañuelos Murillo       25,931.50   1297    2019-06-17\n",
       "2   6        Karla Berenice Cano Garcia       22,960.82   1148    2019-07-23\n",
       "3   7     Jonathan Covarrubias Sustaita       21,719.58   1086    2019-03-04\n",
       "4   8              Miguel Dionicio Luna       27,315.62   1366    2018-01-09"
      ]
     },
     "execution_count": 2,
     "metadata": {},
     "output_type": "execute_result"
    }
   ],
   "source": [
    "df = pd.read_excel('./data/plantilla_laboral2.xlsx', sheet_name='Hoja1')\n",
    "df.head()"
   ]
  },
  {
   "cell_type": "code",
   "execution_count": 3,
   "id": "8c7a8d6c",
   "metadata": {},
   "outputs": [],
   "source": [
    "df['Fecha Ingreso'] = pd.to_datetime(df['Fecha Ingreso'], format='%Y-%m-%d')"
   ]
  },
  {
   "cell_type": "code",
   "execution_count": 4,
   "id": "dcf91447",
   "metadata": {},
   "outputs": [],
   "source": [
    "date_2022 = pd.to_datetime('2022/12/31')"
   ]
  },
  {
   "cell_type": "code",
   "execution_count": 5,
   "id": "02a46d93",
   "metadata": {},
   "outputs": [],
   "source": [
    "df['SDI_2022'] = df.apply(lambda x: SBC.funcion_sdi(sueldo = x['Sueldo mensual'], a = x['Fecha Ingreso'], b = date_2022), axis=1)\n",
    "df['SBC_2022'] = df.apply(lambda x: SBC.funcion_sbc(sueldo = x['Sueldo mensual'], vales = x['Vales'], a = x['Fecha Ingreso'], b = date_2022), axis=1)\n",
    "df['ISR_2022'] = (df['SDI_2022'] * 30.4).apply(lambda x: ISR.function_isr(x))\n",
    "df['IMSS_O_2022'] = df['SBC_2022'].apply(lambda x: CalculoIMSSObrero.function_imss_obrero(x))\n",
    "df['IMSS_P_2022'] = df.apply(lambda x: CalculoIMSSPatron.function_imss_patronal(x = x['SBC_2022'], date=date_2022 ), axis=1)\n",
    "df['ISN_2022'] = df['Sueldo mensual'] * 0.03\n",
    "_isr_ = df['Sueldo mensual'].apply(lambda x: ISR.function_isr(x))\n",
    "df['Neto'] = df['Sueldo mensual'] - _isr_ - df['IMSS_O_2022']\n",
    "df['Aguinaldo_2022'] = df.apply(lambda x: SBC.funcion_aguinaldo(sueldo = x['Sueldo mensual'], a = x['Fecha Ingreso'], b = date_2022), axis=1)\n",
    "df['Prima Vacacional_2022'] = df.apply(lambda x: SBC.funcion_pv(sueldo = x['Sueldo mensual'], date_ingreso = x['Fecha Ingreso'], date_base = date_2022), axis=1)"
   ]
  },
  {
   "cell_type": "code",
   "execution_count": 6,
   "id": "1dc091c3",
   "metadata": {},
   "outputs": [
    {
     "data": {
      "text/html": [
       "<div>\n",
       "<style scoped>\n",
       "    .dataframe tbody tr th:only-of-type {\n",
       "        vertical-align: middle;\n",
       "    }\n",
       "\n",
       "    .dataframe tbody tr th {\n",
       "        vertical-align: top;\n",
       "    }\n",
       "\n",
       "    .dataframe thead th {\n",
       "        text-align: right;\n",
       "    }\n",
       "</style>\n",
       "<table border=\"1\" class=\"dataframe\">\n",
       "  <thead>\n",
       "    <tr style=\"text-align: right;\">\n",
       "      <th></th>\n",
       "      <th>Id</th>\n",
       "      <th>Nombre</th>\n",
       "      <th>Sueldo mensual</th>\n",
       "      <th>Vales</th>\n",
       "      <th>Fecha Ingreso</th>\n",
       "      <th>SDI_2022</th>\n",
       "      <th>SBC_2022</th>\n",
       "      <th>ISR_2022</th>\n",
       "      <th>IMSS_O_2022</th>\n",
       "      <th>IMSS_P_2022</th>\n",
       "      <th>ISN_2022</th>\n",
       "      <th>Neto</th>\n",
       "      <th>Aguinaldo_2022</th>\n",
       "      <th>Prima Vacacional_2022</th>\n",
       "    </tr>\n",
       "  </thead>\n",
       "  <tbody>\n",
       "    <tr>\n",
       "      <th>49</th>\n",
       "      <td>65</td>\n",
       "      <td>José Alfredo López Madrigal</td>\n",
       "      <td>17,687.64</td>\n",
       "      <td>884</td>\n",
       "      <td>2022-06-16</td>\n",
       "      <td>616.24</td>\n",
       "      <td>616.24</td>\n",
       "      <td>2,560.34</td>\n",
       "      <td>484.76</td>\n",
       "      <td>3,544.40</td>\n",
       "      <td>530.63</td>\n",
       "      <td>14,865.96</td>\n",
       "      <td>4,775.66</td>\n",
       "      <td>0.00</td>\n",
       "    </tr>\n",
       "    <tr>\n",
       "      <th>50</th>\n",
       "      <td>66</td>\n",
       "      <td>Jesus Geovanni Ruvalcaba Mota</td>\n",
       "      <td>17,687.64</td>\n",
       "      <td>884</td>\n",
       "      <td>2022-07-01</td>\n",
       "      <td>616.24</td>\n",
       "      <td>616.24</td>\n",
       "      <td>2,560.34</td>\n",
       "      <td>484.76</td>\n",
       "      <td>3,544.40</td>\n",
       "      <td>530.63</td>\n",
       "      <td>14,865.96</td>\n",
       "      <td>4,421.91</td>\n",
       "      <td>0.00</td>\n",
       "    </tr>\n",
       "    <tr>\n",
       "      <th>51</th>\n",
       "      <td>67</td>\n",
       "      <td>Luis Manuel Guerrero Alcantara</td>\n",
       "      <td>19,500.08</td>\n",
       "      <td>975</td>\n",
       "      <td>2022-08-22</td>\n",
       "      <td>679.38</td>\n",
       "      <td>679.38</td>\n",
       "      <td>2,970.37</td>\n",
       "      <td>538.03</td>\n",
       "      <td>3,856.34</td>\n",
       "      <td>585.00</td>\n",
       "      <td>16,238.00</td>\n",
       "      <td>3,510.01</td>\n",
       "      <td>0.00</td>\n",
       "    </tr>\n",
       "    <tr>\n",
       "      <th>52</th>\n",
       "      <td>68</td>\n",
       "      <td>Shaila Barradas Santiago</td>\n",
       "      <td>18,616.36</td>\n",
       "      <td>931</td>\n",
       "      <td>2022-09-19</td>\n",
       "      <td>648.60</td>\n",
       "      <td>648.60</td>\n",
       "      <td>2,770.45</td>\n",
       "      <td>512.05</td>\n",
       "      <td>3,704.25</td>\n",
       "      <td>558.49</td>\n",
       "      <td>15,569.02</td>\n",
       "      <td>2,606.29</td>\n",
       "      <td>0.00</td>\n",
       "    </tr>\n",
       "    <tr>\n",
       "      <th>53</th>\n",
       "      <td>69</td>\n",
       "      <td>Sergio Alexis Bautista Ángeles</td>\n",
       "      <td>31,887.10</td>\n",
       "      <td>1500</td>\n",
       "      <td>2022-12-01</td>\n",
       "      <td>1,110.95</td>\n",
       "      <td>1,121.81</td>\n",
       "      <td>5,919.29</td>\n",
       "      <td>911.26</td>\n",
       "      <td>6,041.92</td>\n",
       "      <td>956.61</td>\n",
       "      <td>25,500.11</td>\n",
       "      <td>1,275.48</td>\n",
       "      <td>0.00</td>\n",
       "    </tr>\n",
       "  </tbody>\n",
       "</table>\n",
       "</div>"
      ],
      "text/plain": [
       "    Id                          Nombre  Sueldo mensual  Vales Fecha Ingreso  \\\n",
       "49  65     José Alfredo López Madrigal       17,687.64    884    2022-06-16   \n",
       "50  66   Jesus Geovanni Ruvalcaba Mota       17,687.64    884    2022-07-01   \n",
       "51  67  Luis Manuel Guerrero Alcantara       19,500.08    975    2022-08-22   \n",
       "52  68        Shaila Barradas Santiago       18,616.36    931    2022-09-19   \n",
       "53  69  Sergio Alexis Bautista Ángeles       31,887.10   1500    2022-12-01   \n",
       "\n",
       "    SDI_2022  SBC_2022  ISR_2022  IMSS_O_2022  IMSS_P_2022  ISN_2022  \\\n",
       "49    616.24    616.24  2,560.34       484.76     3,544.40    530.63   \n",
       "50    616.24    616.24  2,560.34       484.76     3,544.40    530.63   \n",
       "51    679.38    679.38  2,970.37       538.03     3,856.34    585.00   \n",
       "52    648.60    648.60  2,770.45       512.05     3,704.25    558.49   \n",
       "53  1,110.95  1,121.81  5,919.29       911.26     6,041.92    956.61   \n",
       "\n",
       "        Neto  Aguinaldo_2022  Prima Vacacional_2022  \n",
       "49 14,865.96        4,775.66                   0.00  \n",
       "50 14,865.96        4,421.91                   0.00  \n",
       "51 16,238.00        3,510.01                   0.00  \n",
       "52 15,569.02        2,606.29                   0.00  \n",
       "53 25,500.11        1,275.48                   0.00  "
      ]
     },
     "execution_count": 6,
     "metadata": {},
     "output_type": "execute_result"
    }
   ],
   "source": [
    "df.tail()"
   ]
  },
  {
   "cell_type": "code",
   "execution_count": 7,
   "id": "5fe8584b",
   "metadata": {},
   "outputs": [],
   "source": [
    "aumento_2023 = 1.09"
   ]
  },
  {
   "cell_type": "code",
   "execution_count": 8,
   "id": "b6106aee",
   "metadata": {},
   "outputs": [],
   "source": [
    "def vales_2023(vale):\n",
    "    if (vale * aumento_2023) >= 1500:\n",
    "        return 1500.0\n",
    "    else:\n",
    "        return (vale * aumento_2023)"
   ]
  },
  {
   "cell_type": "code",
   "execution_count": 9,
   "id": "c0a478a8",
   "metadata": {},
   "outputs": [],
   "source": [
    "def imss_pt_2023(x, date):\n",
    "    nomina = CalculoIMSSPatron()\n",
    "    nomina.set_fecha_base(date)\n",
    "    nomina.set_sdi(x)\n",
    "    nomina._uma = 96.22 * aumento_2023\n",
    "    return nomina.total_imss()"
   ]
  },
  {
   "cell_type": "code",
   "execution_count": 10,
   "id": "d2bd82c1",
   "metadata": {},
   "outputs": [],
   "source": [
    "def imss_ob_2023(x):\n",
    "    nomina = CalculoIMSSObrero()\n",
    "    nomina.set_sdi(x)\n",
    "    nomina._uma = 96.22 * aumento_2023\n",
    "    return nomina.total_imss()"
   ]
  },
  {
   "cell_type": "code",
   "execution_count": 11,
   "id": "42b6be41",
   "metadata": {},
   "outputs": [],
   "source": [
    "date_2023 = pd.to_datetime('2023/12/31')"
   ]
  },
  {
   "cell_type": "code",
   "execution_count": 12,
   "id": "bdc3e35d",
   "metadata": {},
   "outputs": [],
   "source": [
    "df['Sueldo 2023'] = df['Sueldo mensual'].apply(lambda x: x * 1)\n",
    "df['Vales 2023'] = df['Vales'].apply(lambda x: x * 1 )"
   ]
  },
  {
   "cell_type": "code",
   "execution_count": 13,
   "id": "543520fa",
   "metadata": {},
   "outputs": [],
   "source": [
    "df['SDI_2023'] = df.apply(lambda x: SBC.funcion_sdi(sueldo = x['Sueldo 2023'], a = x['Fecha Ingreso'], b = date_2023), axis=1)\n",
    "df['SBC_2023'] = df.apply(lambda x: SBC.funcion_sbc(sueldo = x['Sueldo 2023'], vales = x['Vales 2023'], a = x['Fecha Ingreso'], b = date_2023), axis=1)\n",
    "df['ISR_2023'] = (df['SDI_2023'] * 30.4).apply(lambda x: ISR.function_isr(x))\n",
    "df['IMSS_O_2023'] = df['SBC_2023'].apply(lambda x: imss_ob_2023(x))\n",
    "df['IMSS_P_2023'] = df.apply(lambda x: imss_pt_2023(x = x['SBC_2023'], date = date_2023), axis=1)\n",
    "df['ISN_2023'] = df['Sueldo 2023'] * 0.03\n",
    "_isr_ = df['Sueldo 2023'].apply(lambda x: ISR.function_isr(x))\n",
    "df['Neto 2023'] = df['Sueldo 2023'] - _isr_ - df['IMSS_O_2023']\n",
    "df['Aguinaldo_2023'] = df.apply(lambda x: SBC.funcion_aguinaldo(sueldo = x['Sueldo 2023'], a = x['Fecha Ingreso'], b = date_2023), axis=1)\n",
    "df['Prima Vacacional_2023'] = df.apply(lambda x: SBC.funcion_pv(sueldo = x['Sueldo 2023'], date_ingreso = x['Fecha Ingreso'], date_base = date_2023), axis=1)"
   ]
  },
  {
   "cell_type": "code",
   "execution_count": null,
   "id": "556043ab",
   "metadata": {},
   "outputs": [],
   "source": [
    "df.tail()"
   ]
  },
  {
   "cell_type": "code",
   "execution_count": null,
   "id": "e6b09227",
   "metadata": {},
   "outputs": [],
   "source": [
    "aumento_2024 = 1.18"
   ]
  },
  {
   "cell_type": "code",
   "execution_count": null,
   "id": "674e386a",
   "metadata": {},
   "outputs": [],
   "source": [
    "def vales_2024(vale):\n",
    "    if (vale * aumento_2024) > 1500:\n",
    "        return 1500.0\n",
    "    else:\n",
    "        return (vale * aumento_2024)"
   ]
  },
  {
   "cell_type": "code",
   "execution_count": null,
   "id": "5eb37b8b",
   "metadata": {},
   "outputs": [],
   "source": [
    "def imss_pt_2024(x, date):\n",
    "    nomina = CalculoIMSSPatron()\n",
    "    nomina.set_fecha_base(date)\n",
    "    nomina.set_sdi(x)\n",
    "    nomina._uma = 96.22 * aumento_2024\n",
    "    return nomina.total_imss()"
   ]
  },
  {
   "cell_type": "code",
   "execution_count": null,
   "id": "42ecfd73",
   "metadata": {},
   "outputs": [],
   "source": [
    "def imss_ob_2024(x):\n",
    "    nomina = CalculoIMSSObrero()\n",
    "    nomina.set_sdi(x)\n",
    "    nomina._uma = 96.22 * aumento_2024\n",
    "    return nomina.total_imss()"
   ]
  },
  {
   "cell_type": "code",
   "execution_count": null,
   "id": "813769da",
   "metadata": {},
   "outputs": [],
   "source": [
    "date_2024 = pd.to_datetime('2024/12/31')"
   ]
  },
  {
   "cell_type": "code",
   "execution_count": null,
   "id": "bf043a73",
   "metadata": {},
   "outputs": [],
   "source": [
    "df['Sueldo 2024'] = df['Sueldo mensual'].apply(lambda x: x * aumento_2024)\n",
    "df['Vales 2024'] = df['Vales'].apply(lambda x: vales_2024(x) )"
   ]
  },
  {
   "cell_type": "code",
   "execution_count": null,
   "id": "cb078ca5",
   "metadata": {},
   "outputs": [],
   "source": [
    "df['SDI_2024'] = df.apply(lambda x: SBC.funcion_sdi(sueldo = x['Sueldo 2024'], a = x['Fecha Ingreso'], b = date_2024), axis=1)\n",
    "df['SBC_2024'] = df.apply(lambda x: SBC.funcion_sbc(sueldo = x['Sueldo 2024'], vales = x['Vales 2024'], a = x['Fecha Ingreso'], b = date_2024), axis=1)\n",
    "df['ISR_2024'] = (df['SDI_2024'] * 30.4).apply(lambda x: ISR.function_isr(x))\n",
    "df['IMSS_O_2024'] = df['SBC_2024'].apply(lambda x: imss_ob_2024(x))\n",
    "df['IMSS_P_2024'] = df.apply(lambda x: imss_pt_2024(x = x['SBC_2024'], date = date_2024), axis=1)\n",
    "df['ISN_2024'] = df['Sueldo 2024'] * 0.03\n",
    "_isr_ = df['Sueldo 2024'].apply(lambda x: ISR.function_isr(x))\n",
    "df['Neto 2024'] = df['Sueldo 2024'] - _isr_ - df['IMSS_O_2024']\n",
    "df['Aguinaldo_2024'] = df.apply(lambda x: SBC.funcion_aguinaldo(sueldo = x['Sueldo 2024'], a = x['Fecha Ingreso'], b = date_2024), axis=1)\n",
    "df['Prima Vacacional_2024'] = df.apply(lambda x: SBC.funcion_pv(sueldo = x['Sueldo 2024'], date_ingreso = x['Fecha Ingreso'], date_base = date_2024), axis=1)"
   ]
  },
  {
   "cell_type": "code",
   "execution_count": null,
   "id": "b6a1753b",
   "metadata": {
    "scrolled": false
   },
   "outputs": [],
   "source": [
    "df"
   ]
  },
  {
   "cell_type": "code",
   "execution_count": 14,
   "id": "85c23ad9",
   "metadata": {},
   "outputs": [],
   "source": [
    "df.to_excel('./resultados/proyeccion2023p.xlsx', index=False, sheet_name='proyeccion')"
   ]
  },
  {
   "cell_type": "code",
   "execution_count": null,
   "id": "f6c787f8",
   "metadata": {},
   "outputs": [],
   "source": [
    "df_t = df.copy(deep=True)"
   ]
  },
  {
   "cell_type": "code",
   "execution_count": null,
   "id": "6fff9a53",
   "metadata": {
    "scrolled": false
   },
   "outputs": [],
   "source": [
    "df_t.T.head(14)"
   ]
  },
  {
   "cell_type": "code",
   "execution_count": null,
   "id": "6a8779a8",
   "metadata": {},
   "outputs": [],
   "source": [
    "df_t = df_t.T"
   ]
  },
  {
   "cell_type": "code",
   "execution_count": null,
   "id": "847afee6",
   "metadata": {},
   "outputs": [],
   "source": [
    "df_t.to_excel('./resultados/proyeccion_t.xlsx', index=True, sheet_name='proyeccion')"
   ]
  },
  {
   "cell_type": "code",
   "execution_count": null,
   "id": "704330db",
   "metadata": {},
   "outputs": [],
   "source": []
  }
 ],
 "metadata": {
  "kernelspec": {
   "display_name": "Python 3 (ipykernel)",
   "language": "python",
   "name": "python3"
  },
  "language_info": {
   "codemirror_mode": {
    "name": "ipython",
    "version": 3
   },
   "file_extension": ".py",
   "mimetype": "text/x-python",
   "name": "python",
   "nbconvert_exporter": "python",
   "pygments_lexer": "ipython3",
   "version": "3.10.4"
  }
 },
 "nbformat": 4,
 "nbformat_minor": 5
}
