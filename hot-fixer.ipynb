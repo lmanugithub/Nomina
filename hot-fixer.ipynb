{
 "cells": [
  {
   "cell_type": "code",
   "execution_count": 1,
   "id": "c9ae6a72",
   "metadata": {},
   "outputs": [],
   "source": [
    "import pandas as pd\n",
    "from cuotasimss import CuotasImss\n",
    "from imss import CalculoIMSSObrero, CalculoIMSSPatron\n",
    "from isr import ISR\n",
    "from datetime import datetime\n",
    "from sbc import SBC\n",
    "from dataimss import DataImss\n",
    "pd.options.display.float_format = '{:,.2f}'.format"
   ]
  },
  {
   "cell_type": "code",
   "execution_count": 2,
   "id": "4cd015f8",
   "metadata": {},
   "outputs": [
    {
     "data": {
      "text/plain": [
       "596.718"
      ]
     },
     "execution_count": 2,
     "metadata": {},
     "output_type": "execute_result"
    }
   ],
   "source": [
    "cuota = CalculoIMSSPatron()\n",
    "cuota.set_sdi(617)\n",
    "cuota.cuotas_pres_especie_enf_mat_cuot()"
   ]
  },
  {
   "cell_type": "code",
   "execution_count": 3,
   "id": "5fd38e7d",
   "metadata": {},
   "outputs": [
    {
     "data": {
      "text/plain": [
       "96.22"
      ]
     },
     "execution_count": 3,
     "metadata": {},
     "output_type": "execute_result"
    }
   ],
   "source": [
    "cuota._uma"
   ]
  },
  {
   "cell_type": "code",
   "execution_count": 8,
   "id": "a9f30264",
   "metadata": {},
   "outputs": [],
   "source": [
    "cuota.set_fecha_base(pd.to_datetime('2024-09-01'))"
   ]
  },
  {
   "cell_type": "code",
   "execution_count": 9,
   "id": "a9c5983c",
   "metadata": {},
   "outputs": [
    {
     "data": {
      "text/plain": [
       "999.925"
      ]
     },
     "execution_count": 9,
     "metadata": {},
     "output_type": "execute_result"
    }
   ],
   "source": [
    "cuota.cuota_cesantia_vejez()"
   ]
  },
  {
   "cell_type": "code",
   "execution_count": null,
   "id": "cb20916f",
   "metadata": {},
   "outputs": [],
   "source": []
  }
 ],
 "metadata": {
  "kernelspec": {
   "display_name": "Python 3 (ipykernel)",
   "language": "python",
   "name": "python3"
  },
  "language_info": {
   "codemirror_mode": {
    "name": "ipython",
    "version": 3
   },
   "file_extension": ".py",
   "mimetype": "text/x-python",
   "name": "python",
   "nbconvert_exporter": "python",
   "pygments_lexer": "ipython3",
   "version": "3.10.4"
  }
 },
 "nbformat": 4,
 "nbformat_minor": 5
}
