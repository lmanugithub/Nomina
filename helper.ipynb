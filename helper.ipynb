{
 "cells": [
  {
   "cell_type": "code",
   "execution_count": null,
   "id": "fca81e03",
   "metadata": {},
   "outputs": [],
   "source": [
    "import pandas as pd\n",
    "from isr import ISR\n",
    "from dataimss import DataImss\n",
    "from datostrabajador import DatosTrabajador"
   ]
  },
  {
   "cell_type": "code",
   "execution_count": null,
   "id": "42d98ba9",
   "metadata": {},
   "outputs": [],
   "source": [
    "calculo = ISR()"
   ]
  },
  {
   "cell_type": "code",
   "execution_count": null,
   "id": "80d27008",
   "metadata": {},
   "outputs": [],
   "source": [
    "sueldo = 4000\n",
    "ISR.function_isr(sueldo)"
   ]
  },
  {
   "cell_type": "code",
   "execution_count": null,
   "id": "87caba53",
   "metadata": {},
   "outputs": [],
   "source": [
    "comp=[14000-ISR.function_isr(14000),(14000*1.05)-ISR.function_isr(14000*1.05)]\n",
    "comp"
   ]
  },
  {
   "cell_type": "code",
   "execution_count": null,
   "id": "e67a7479",
   "metadata": {},
   "outputs": [],
   "source": [
    "14000*1.05"
   ]
  },
  {
   "cell_type": "code",
   "execution_count": null,
   "id": "61eda718",
   "metadata": {},
   "outputs": [],
   "source": [
    "base = 17800"
   ]
  },
  {
   "cell_type": "code",
   "execution_count": null,
   "id": "03fa06d9",
   "metadata": {},
   "outputs": [],
   "source": [
    "comp=[base/2-ISR.function_isr(base)/2,(((base*1.05)-base/2)-(ISR.function_isr(base*1.05)-ISR.function_isr(base)/2))-base*.05]\n",
    "comp"
   ]
  },
  {
   "cell_type": "code",
   "execution_count": null,
   "id": "2f0adb1e",
   "metadata": {},
   "outputs": [],
   "source": [
    "(((base*1.05)-base/2))"
   ]
  },
  {
   "cell_type": "code",
   "execution_count": null,
   "id": "aa01e01b",
   "metadata": {},
   "outputs": [],
   "source": [
    "comp=[base/2-ISR.function_isr(base)/2,(((base*1.05)-base/2)-(ISR.function_isr(base*1.05)-ISR.function_isr(base)/2))]\n",
    "comp"
   ]
  },
  {
   "cell_type": "code",
   "execution_count": null,
   "id": "2404b6c7",
   "metadata": {},
   "outputs": [],
   "source": [
    "def diferencias(base, monto):\n",
    "    calculo1 = ISR()\n",
    "    calculo1.set_sueldo_base(base)\n",
    "    calculo2 = ISR()\n",
    "    calculo2.set_sueldo_base(base+monto)    \n",
    "    q_1 = base/2 - calculo1.impuesto_a_retener()/2\n",
    "    q_2 = ((base + monto) - base/2) - (calculo2.impuesto_a_retener() - (calculo1.impuesto_a_retener()/2))\n",
    "    q_2 = q_2 - monto\n",
    "    return (round(q_1,2),round(q_2,2))\n",
    "    "
   ]
  },
  {
   "cell_type": "code",
   "execution_count": null,
   "id": "eedcc844",
   "metadata": {},
   "outputs": [],
   "source": [
    "print(diferencias(17800.0,(17800*0.05)))"
   ]
  },
  {
   "cell_type": "code",
   "execution_count": null,
   "id": "10c55fba",
   "metadata": {},
   "outputs": [],
   "source": [
    "primer, segunda = diferencias(17800.0,(17800*0.05))"
   ]
  },
  {
   "cell_type": "code",
   "execution_count": null,
   "id": "70f70cf1",
   "metadata": {},
   "outputs": [],
   "source": [
    "primer"
   ]
  },
  {
   "cell_type": "code",
   "execution_count": null,
   "id": "883d0ca9",
   "metadata": {},
   "outputs": [],
   "source": [
    "def gratificacion(base, monto):\n",
    "    calculo1 = ISR()\n",
    "    calculo1.set_sueldo_base(base)\n",
    "    calculo2 = ISR()\n",
    "    calculo2.set_sueldo_base(base+monto)\n",
    "    primera, segunda = diferencias(base,monto)\n",
    "    temp = 0\n",
    "    while primera >= segunda:\n",
    "        temp += 1\n",
    "        calculo2.set_sueldo_base(base+monto+temp)\n",
    "        new_base = base + monto + temp\n",
    "        segunda = ((new_base) - base/2) - (calculo2.impuesto_a_retener() - (calculo1.impuesto_a_retener()/2)) - monto\n",
    "    return temp"
   ]
  },
  {
   "cell_type": "code",
   "execution_count": null,
   "id": "da6db681",
   "metadata": {},
   "outputs": [],
   "source": [
    "base = 17800\n",
    "monto = base * 0.05\n",
    "\n",
    "print(gratificacion(base, monto))"
   ]
  },
  {
   "cell_type": "code",
   "execution_count": null,
   "id": "2c91a5d1",
   "metadata": {},
   "outputs": [],
   "source": [
    "base = 17800\n",
    "\n",
    "\n",
    "salario = base*1.05+242-(base/2) - (ISR.function_isr(base*1.05+242)-ISR.function_isr(base)/2)\n",
    "salario-(base*0.05)"
   ]
  },
  {
   "cell_type": "code",
   "execution_count": null,
   "id": "b6d3485d",
   "metadata": {},
   "outputs": [],
   "source": [
    "base = 13238\n",
    "monto = base * 0.05\n",
    "\n",
    "print(gratificacion(base, monto))"
   ]
  },
  {
   "cell_type": "code",
   "execution_count": null,
   "id": "e5300ebe",
   "metadata": {},
   "outputs": [],
   "source": [
    "class Gratificacion():\n",
    "    \n",
    "    def set_data(self, base, monto):\n",
    "        self.base = base\n",
    "        self.monto = monto\n",
    "        \n",
    "    def get_data(self):\n",
    "        return (self.base, self.monto)\n",
    "    \n",
    "    def diferencias(self):\n",
    "        calculo1 = ISR()\n",
    "        calculo1.set_sueldo_base(self.base)\n",
    "        calculo2 = ISR()\n",
    "        calculo2.set_sueldo_base(self.base+self.monto)    \n",
    "        q_1 = self.base/2 - calculo1.impuesto_a_retener()/2\n",
    "        q_2 = ((self.base + self.monto) - self.base/2) - (calculo2.impuesto_a_retener() - (calculo1.impuesto_a_retener()/2))\n",
    "        q_2 = q_2 - self.monto\n",
    "        return (round(q_1,2),round(q_2,2))\n",
    "    \n",
    "    \n",
    "    def gratificacion(self):\n",
    "        calculo1 = ISR()\n",
    "        calculo1.set_sueldo_base(self.base)\n",
    "        calculo2 = ISR()\n",
    "        calculo2.set_sueldo_base(self.base + self.monto)\n",
    "        primera, segunda = self.diferencias()\n",
    "        temp = 0\n",
    "        while primera >= segunda:\n",
    "            temp += 0.01\n",
    "            calculo2.set_sueldo_base(self.base + self.monto + temp)\n",
    "            new_base = self.base + self.monto + temp\n",
    "            segunda = ((new_base) - self.base/2) - (calculo2.impuesto_a_retener() - (calculo1.impuesto_a_retener()/2)) - self.monto\n",
    "        return temp\n",
    "    "
   ]
  },
  {
   "cell_type": "code",
   "execution_count": null,
   "id": "d6d00ca5",
   "metadata": {},
   "outputs": [],
   "source": [
    "juan = Gratificacion()\n",
    "juan.set_data(13238,13238*.05)\n",
    "juan.diferencias()"
   ]
  },
  {
   "cell_type": "code",
   "execution_count": null,
   "id": "934886a6",
   "metadata": {},
   "outputs": [],
   "source": [
    "juan.get_data()"
   ]
  },
  {
   "cell_type": "code",
   "execution_count": null,
   "id": "b097e443",
   "metadata": {},
   "outputs": [],
   "source": [
    "juan.gratificacion()"
   ]
  },
  {
   "cell_type": "code",
   "execution_count": null,
   "id": "1ce340a7",
   "metadata": {},
   "outputs": [],
   "source": []
  },
  {
   "cell_type": "code",
   "execution_count": null,
   "id": "423060c6",
   "metadata": {},
   "outputs": [],
   "source": []
  },
  {
   "cell_type": "code",
   "execution_count": null,
   "id": "f259303b",
   "metadata": {},
   "outputs": [],
   "source": []
  },
  {
   "cell_type": "code",
   "execution_count": null,
   "id": "90d5173d",
   "metadata": {},
   "outputs": [],
   "source": [
    "base = 17800\n",
    "comp=[base/2-ISR.function_isr(base)/2,(((base*1.05)-base/2)-(ISR.function_isr(base*1.05)-ISR.function_isr(base)/2))-base*.05]\n",
    "comp"
   ]
  },
  {
   "cell_type": "code",
   "execution_count": null,
   "id": "5a36a22e",
   "metadata": {},
   "outputs": [],
   "source": []
  },
  {
   "cell_type": "code",
   "execution_count": null,
   "id": "96793cc9",
   "metadata": {},
   "outputs": [],
   "source": [
    "(((base*1.05)-base/2))"
   ]
  },
  {
   "cell_type": "code",
   "execution_count": null,
   "id": "f502c5c3",
   "metadata": {},
   "outputs": [],
   "source": [
    "base*1.05"
   ]
  },
  {
   "cell_type": "code",
   "execution_count": null,
   "id": "d19caa4a",
   "metadata": {},
   "outputs": [],
   "source": [
    "from letra import letra"
   ]
  },
  {
   "cell_type": "code",
   "execution_count": null,
   "id": "9626384a",
   "metadata": {},
   "outputs": [],
   "source": [
    "import pandas as pd"
   ]
  },
  {
   "cell_type": "code",
   "execution_count": null,
   "id": "d687ab20",
   "metadata": {},
   "outputs": [],
   "source": [
    "df = pd.read_excel('./data/data2.xlsx')"
   ]
  },
  {
   "cell_type": "code",
   "execution_count": null,
   "id": "05ed6fcc",
   "metadata": {},
   "outputs": [],
   "source": [
    "df"
   ]
  },
  {
   "cell_type": "code",
   "execution_count": null,
   "id": "d10264b4",
   "metadata": {},
   "outputs": [],
   "source": [
    "letra(1)"
   ]
  },
  {
   "cell_type": "code",
   "execution_count": null,
   "id": "35cdee10",
   "metadata": {},
   "outputs": [],
   "source": [
    "df['importe en letra'] = df['sueldo'].apply(letra)"
   ]
  },
  {
   "cell_type": "code",
   "execution_count": null,
   "id": "42faa622",
   "metadata": {},
   "outputs": [],
   "source": [
    "df"
   ]
  },
  {
   "cell_type": "code",
   "execution_count": null,
   "id": "e395efb1",
   "metadata": {},
   "outputs": [],
   "source": [
    "letra(10199.06)"
   ]
  },
  {
   "cell_type": "code",
   "execution_count": null,
   "id": "fff101b2",
   "metadata": {},
   "outputs": [],
   "source": [
    "data = DataImss()"
   ]
  },
  {
   "cell_type": "code",
   "execution_count": null,
   "id": "8b3d1b81",
   "metadata": {},
   "outputs": [],
   "source": [
    "data._uma"
   ]
  },
  {
   "cell_type": "code",
   "execution_count": null,
   "id": "64f55dcd",
   "metadata": {},
   "outputs": [],
   "source": [
    "data._uma = 96.22*1.09"
   ]
  },
  {
   "cell_type": "code",
   "execution_count": null,
   "id": "8daf9ec5",
   "metadata": {},
   "outputs": [],
   "source": [
    "data._uma"
   ]
  },
  {
   "cell_type": "code",
   "execution_count": null,
   "id": "43575657",
   "metadata": {},
   "outputs": [],
   "source": [
    "from imss import CalculoIMSSObrero, CalculoIMSSPatron"
   ]
  },
  {
   "cell_type": "code",
   "execution_count": null,
   "id": "99882461",
   "metadata": {},
   "outputs": [],
   "source": [
    "imss = CalculoIMSSObrero()"
   ]
  },
  {
   "cell_type": "code",
   "execution_count": null,
   "id": "bb18f666",
   "metadata": {},
   "outputs": [],
   "source": [
    "imss._uma"
   ]
  },
  {
   "cell_type": "code",
   "execution_count": null,
   "id": "7a6cbc73",
   "metadata": {},
   "outputs": [],
   "source": [
    "import pandas as pd\n",
    "from cuotasimss import CuotasImss\n",
    "from imss import CalculoIMSSObrero, CalculoIMSSPatron\n",
    "from isr import ISR\n",
    "from datetime import datetime\n",
    "from sbc import SBC\n",
    "pd.options.display.float_format = '{:,.2f}'.format"
   ]
  },
  {
   "cell_type": "code",
   "execution_count": null,
   "id": "bf88c0c6",
   "metadata": {},
   "outputs": [],
   "source": [
    "date_2022 = pd.to_datetime('2023/12/31')"
   ]
  },
  {
   "cell_type": "code",
   "execution_count": null,
   "id": "8b3e37a8",
   "metadata": {},
   "outputs": [],
   "source": [
    "nomina = SBC()\n",
    "nomina.set_fecha_base(date_2022)"
   ]
  },
  {
   "cell_type": "code",
   "execution_count": null,
   "id": "e9ae9252",
   "metadata": {},
   "outputs": [],
   "source": [
    "nomina.get_fecha_base().year"
   ]
  },
  {
   "cell_type": "code",
   "execution_count": null,
   "id": "5d1409aa",
   "metadata": {},
   "outputs": [],
   "source": [
    "print(type(nomina.get_fecha_base().year))"
   ]
  },
  {
   "cell_type": "code",
   "execution_count": null,
   "id": "d6b5fbf8",
   "metadata": {},
   "outputs": [],
   "source": [
    "lista = [1.01, 1.50, 2.00, 2.50, 3.00, 3.50, 4.00, 4.01, 35 ]\n",
    "lista2 = list(filter(lambda x: (x <= 1.9), lista))"
   ]
  },
  {
   "cell_type": "code",
   "execution_count": null,
   "id": "19faf792",
   "metadata": {},
   "outputs": [],
   "source": [
    "lista2[-1]"
   ]
  },
  {
   "cell_type": "code",
   "execution_count": null,
   "id": "fa0b6e9b",
   "metadata": {},
   "outputs": [],
   "source": [
    "lista_c = [ i for i in lista if i <= 25 ]"
   ]
  },
  {
   "cell_type": "code",
   "execution_count": null,
   "id": "b9dd6769",
   "metadata": {},
   "outputs": [],
   "source": [
    "lista.index(lista_c[-1])"
   ]
  },
  {
   "cell_type": "code",
   "execution_count": 1,
   "id": "8c67cfd7",
   "metadata": {},
   "outputs": [],
   "source": [
    "import pandas as pd\n",
    "from cuotasimss import CuotasImss\n",
    "from imss import CalculoIMSSObrero, CalculoIMSSPatron\n",
    "from isr import ISR\n",
    "from datetime import datetime\n",
    "from sbc import SBC\n",
    "from tablas_imss import Tablas_Imss\n",
    "pd.options.display.float_format = '{:,.2f}'.format"
   ]
  },
  {
   "cell_type": "code",
   "execution_count": 2,
   "id": "6def3a5f",
   "metadata": {},
   "outputs": [],
   "source": [
    "def imss_pt_2024(x, date):\n",
    "    nomina = CalculoIMSSPatron()\n",
    "    nomina.set_sdi(x)\n",
    "    nomina.set_fecha_base(date)\n",
    "    nomina._uma = 96.22 * 1\n",
    "    return nomina.total_imss()"
   ]
  },
  {
   "cell_type": "code",
   "execution_count": 3,
   "id": "45f978a3",
   "metadata": {
    "scrolled": false
   },
   "outputs": [
    {
     "name": "stdout",
     "output_type": "stream",
     "text": [
      "3865.33 4090.65\n"
     ]
    }
   ],
   "source": [
    "date1 = pd.to_datetime('2022-10-31')\n",
    "date2 = pd.to_datetime('2023-10-31')\n",
    "print(imss_pt_2024(679.38, date1),imss_pt_2024(679.38, date2))"
   ]
  },
  {
   "cell_type": "code",
   "execution_count": 4,
   "id": "c9cc0c1b",
   "metadata": {},
   "outputs": [
    {
     "data": {
      "text/plain": [
       "0.03281"
      ]
     },
     "execution_count": 4,
     "metadata": {},
     "output_type": "execute_result"
    }
   ],
   "source": [
    "data1 = Tablas_Imss()\n",
    "data1.porcent_ceav('2023',1)"
   ]
  },
  {
   "cell_type": "code",
   "execution_count": 5,
   "id": "4c630b29",
   "metadata": {},
   "outputs": [
    {
     "data": {
      "text/plain": [
       "2023"
      ]
     },
     "execution_count": 5,
     "metadata": {},
     "output_type": "execute_result"
    }
   ],
   "source": [
    "data = CalculoIMSSPatron()\n",
    "data.set_sdi(616)\n",
    "data.set_fecha_base(pd.to_datetime('2023-10-31'))\n",
    "data.get_year()"
   ]
  },
  {
   "cell_type": "code",
   "execution_count": 6,
   "id": "f90d3502",
   "metadata": {},
   "outputs": [
    {
     "data": {
      "text/plain": [
       "7"
      ]
     },
     "execution_count": 6,
     "metadata": {},
     "output_type": "execute_result"
    }
   ],
   "source": [
    "data.index()"
   ]
  },
  {
   "cell_type": "code",
   "execution_count": 7,
   "id": "a7dd93a2",
   "metadata": {},
   "outputs": [
    {
     "data": {
      "text/plain": [
       "6.4"
      ]
     },
     "execution_count": 7,
     "metadata": {},
     "output_type": "execute_result"
    }
   ],
   "source": [
    "data.veces_uma()"
   ]
  },
  {
   "cell_type": "code",
   "execution_count": 8,
   "id": "8cc349b8",
   "metadata": {},
   "outputs": [
    {
     "data": {
      "text/plain": [
       "0.04241"
      ]
     },
     "execution_count": 8,
     "metadata": {},
     "output_type": "execute_result"
    }
   ],
   "source": [
    "data.porcent_ceav(str(data.get_year()),data.index())"
   ]
  },
  {
   "cell_type": "code",
   "execution_count": null,
   "id": "0148b3f1",
   "metadata": {},
   "outputs": [],
   "source": []
  }
 ],
 "metadata": {
  "kernelspec": {
   "display_name": "Python 3 (ipykernel)",
   "language": "python",
   "name": "python3"
  },
  "language_info": {
   "codemirror_mode": {
    "name": "ipython",
    "version": 3
   },
   "file_extension": ".py",
   "mimetype": "text/x-python",
   "name": "python",
   "nbconvert_exporter": "python",
   "pygments_lexer": "ipython3",
   "version": "3.10.4"
  }
 },
 "nbformat": 4,
 "nbformat_minor": 5
}
