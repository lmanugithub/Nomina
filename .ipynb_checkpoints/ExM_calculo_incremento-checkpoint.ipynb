{
 "cells": [
  {
   "cell_type": "code",
   "execution_count": 11,
   "id": "2d889e53",
   "metadata": {},
   "outputs": [],
   "source": [
    "import pandas as pd\n",
    "from cuotasimss import CuotasImss\n",
    "from imss import CalculoIMSSObrero, CalculoIMSSPatron\n",
    "from isr import ISR\n",
    "from datetime import datetime\n",
    "from sbc import SBC\n",
    "pd.options.display.float_format = '{:,.2f}'.format"
   ]
  },
  {
   "cell_type": "code",
   "execution_count": 12,
   "id": "fd37877e",
   "metadata": {},
   "outputs": [],
   "source": [
    "from incremento import Incremento"
   ]
  },
  {
   "cell_type": "code",
   "execution_count": 13,
   "id": "e9efaa6e",
   "metadata": {},
   "outputs": [],
   "source": [
    "sueldo = 25500\n",
    "fch_ing = '2021/12/01'\n",
    "fch_bse = '2022/12/31'\n",
    "vales = 1500\n",
    "goal = 25500\n",
    "nombre = 'Prueba'"
   ]
  },
  {
   "cell_type": "code",
   "execution_count": 14,
   "id": "f5c6c602",
   "metadata": {},
   "outputs": [
    {
     "data": {
      "text/plain": [
       "6387"
      ]
     },
     "execution_count": 14,
     "metadata": {},
     "output_type": "execute_result"
    }
   ],
   "source": [
    "incremento = Incremento()\n",
    "incremento.set_data(sueldo = sueldo, fch_ing = fch_ing, fch_bse = fch_bse, vales = vales, goal = goal)\n",
    "incremento.incremento()"
   ]
  },
  {
   "cell_type": "code",
   "execution_count": 15,
   "id": "acef7c8e",
   "metadata": {},
   "outputs": [
    {
     "data": {
      "text/plain": [
       "1594.0"
      ]
     },
     "execution_count": 15,
     "metadata": {},
     "output_type": "execute_result"
    }
   ],
   "source": [
    "sueldo_mensual = sueldo + incremento.incremento()\n",
    "sueldo_mensual * 0.05//1"
   ]
  },
  {
   "cell_type": "code",
   "execution_count": 16,
   "id": "0b202cc9",
   "metadata": {},
   "outputs": [],
   "source": [
    "diccionario = {'Nombre':[nombre],\n",
    "              'Sueldo mensual':[sueldo_mensual],\n",
    "              'Vales':[vales],\n",
    "              'Fecha Ingreso':[fch_ing]}"
   ]
  },
  {
   "cell_type": "code",
   "execution_count": 17,
   "id": "d0a15db1",
   "metadata": {},
   "outputs": [],
   "source": [
    "df = pd.DataFrame(diccionario)"
   ]
  },
  {
   "cell_type": "code",
   "execution_count": 18,
   "id": "fcffcc9a",
   "metadata": {},
   "outputs": [
    {
     "data": {
      "text/html": [
       "<div>\n",
       "<style scoped>\n",
       "    .dataframe tbody tr th:only-of-type {\n",
       "        vertical-align: middle;\n",
       "    }\n",
       "\n",
       "    .dataframe tbody tr th {\n",
       "        vertical-align: top;\n",
       "    }\n",
       "\n",
       "    .dataframe thead th {\n",
       "        text-align: right;\n",
       "    }\n",
       "</style>\n",
       "<table border=\"1\" class=\"dataframe\">\n",
       "  <thead>\n",
       "    <tr style=\"text-align: right;\">\n",
       "      <th></th>\n",
       "      <th>Nombre</th>\n",
       "      <th>Sueldo mensual</th>\n",
       "      <th>Vales</th>\n",
       "      <th>Fecha Ingreso</th>\n",
       "    </tr>\n",
       "  </thead>\n",
       "  <tbody>\n",
       "    <tr>\n",
       "      <th>0</th>\n",
       "      <td>Prueba</td>\n",
       "      <td>31887</td>\n",
       "      <td>1500</td>\n",
       "      <td>2021/12/01</td>\n",
       "    </tr>\n",
       "  </tbody>\n",
       "</table>\n",
       "</div>"
      ],
      "text/plain": [
       "   Nombre  Sueldo mensual  Vales Fecha Ingreso\n",
       "0  Prueba           31887   1500    2021/12/01"
      ]
     },
     "execution_count": 18,
     "metadata": {},
     "output_type": "execute_result"
    }
   ],
   "source": [
    "df"
   ]
  },
  {
   "cell_type": "code",
   "execution_count": 19,
   "id": "1cb3f05a",
   "metadata": {},
   "outputs": [],
   "source": [
    "df['Fecha Ingreso'] = pd.to_datetime(df['Fecha Ingreso'], format='%Y-%m-%d')\n",
    "date_2022 = pd.to_datetime('2022/12/31')\n",
    "\n",
    "df['SD'] = df['Sueldo mensual'].apply(lambda x: x / 30)\n",
    "df['SBC'] = df.apply(lambda x: SBC.funcion_sbc(sueldo = x['Sueldo mensual'], vales = x['Vales'], a = x['Fecha Ingreso'], b = date_2022), axis=1)\n",
    "df['ISR'] = (df['Sueldo mensual'] * 1).apply(lambda x: ISR.function_isr(x))\n",
    "df['IMSS_Ob'] = df['SBC'].apply(lambda x: CalculoIMSSObrero.function_imss_obrero(x))\n",
    "df['IMSS_Pt'] = df.apply(lambda x: CalculoIMSSPatron.function_imss_patronal(x = x['SBC'], date=date_2022 ), axis=1)\n",
    "df['ISN'] = df['Sueldo mensual'] * 0.03\n",
    "_isr_ = df['Sueldo mensual'].apply(lambda x: ISR.function_isr(x))\n",
    "df['Neto'] = df['Sueldo mensual'] - _isr_ - df['IMSS_Ob']\n",
    "df['Aguinaldo'] = df.apply(lambda x: SBC.funcion_aguinaldo(sueldo = x['Sueldo mensual'], a = x['Fecha Ingreso'], b = date_2022), axis=1)\n",
    "df['Prima Vacacional'] = df.apply(lambda x: SBC.funcion_pv(sueldo = x['Sueldo mensual'], date_ingreso = x['Fecha Ingreso'], date_base = date_2022), axis=1)"
   ]
  },
  {
   "cell_type": "code",
   "execution_count": 20,
   "id": "af9d604a",
   "metadata": {},
   "outputs": [
    {
     "data": {
      "text/html": [
       "<div>\n",
       "<style scoped>\n",
       "    .dataframe tbody tr th:only-of-type {\n",
       "        vertical-align: middle;\n",
       "    }\n",
       "\n",
       "    .dataframe tbody tr th {\n",
       "        vertical-align: top;\n",
       "    }\n",
       "\n",
       "    .dataframe thead th {\n",
       "        text-align: right;\n",
       "    }\n",
       "</style>\n",
       "<table border=\"1\" class=\"dataframe\">\n",
       "  <thead>\n",
       "    <tr style=\"text-align: right;\">\n",
       "      <th></th>\n",
       "      <th>0</th>\n",
       "    </tr>\n",
       "  </thead>\n",
       "  <tbody>\n",
       "    <tr>\n",
       "      <th>Nombre</th>\n",
       "      <td>Prueba</td>\n",
       "    </tr>\n",
       "    <tr>\n",
       "      <th>Sueldo mensual</th>\n",
       "      <td>31887</td>\n",
       "    </tr>\n",
       "    <tr>\n",
       "      <th>Vales</th>\n",
       "      <td>1500</td>\n",
       "    </tr>\n",
       "    <tr>\n",
       "      <th>Fecha Ingreso</th>\n",
       "      <td>2021-12-01 00:00:00</td>\n",
       "    </tr>\n",
       "    <tr>\n",
       "      <th>SD</th>\n",
       "      <td>1,062.90</td>\n",
       "    </tr>\n",
       "    <tr>\n",
       "      <th>SBC</th>\n",
       "      <td>1,121.80</td>\n",
       "    </tr>\n",
       "    <tr>\n",
       "      <th>ISR</th>\n",
       "      <td>5,475.70</td>\n",
       "    </tr>\n",
       "    <tr>\n",
       "      <th>IMSS_Ob</th>\n",
       "      <td>911.25</td>\n",
       "    </tr>\n",
       "    <tr>\n",
       "      <th>IMSS_Pt</th>\n",
       "      <td>6,041.90</td>\n",
       "    </tr>\n",
       "    <tr>\n",
       "      <th>ISN</th>\n",
       "      <td>956.61</td>\n",
       "    </tr>\n",
       "    <tr>\n",
       "      <th>Neto</th>\n",
       "      <td>25,500.05</td>\n",
       "    </tr>\n",
       "    <tr>\n",
       "      <th>Aguinaldo</th>\n",
       "      <td>15,943.50</td>\n",
       "    </tr>\n",
       "    <tr>\n",
       "      <th>Prima Vacacional</th>\n",
       "      <td>1,594.35</td>\n",
       "    </tr>\n",
       "  </tbody>\n",
       "</table>\n",
       "</div>"
      ],
      "text/plain": [
       "                                    0\n",
       "Nombre                         Prueba\n",
       "Sueldo mensual                  31887\n",
       "Vales                            1500\n",
       "Fecha Ingreso     2021-12-01 00:00:00\n",
       "SD                           1,062.90\n",
       "SBC                          1,121.80\n",
       "ISR                          5,475.70\n",
       "IMSS_Ob                        911.25\n",
       "IMSS_Pt                      6,041.90\n",
       "ISN                            956.61\n",
       "Neto                        25,500.05\n",
       "Aguinaldo                   15,943.50\n",
       "Prima Vacacional             1,594.35"
      ]
     },
     "execution_count": 20,
     "metadata": {},
     "output_type": "execute_result"
    }
   ],
   "source": [
    "df.T"
   ]
  },
  {
   "cell_type": "code",
   "execution_count": null,
   "id": "b2da06a2",
   "metadata": {},
   "outputs": [],
   "source": []
  }
 ],
 "metadata": {
  "kernelspec": {
   "display_name": "Python 3 (ipykernel)",
   "language": "python",
   "name": "python3"
  },
  "language_info": {
   "codemirror_mode": {
    "name": "ipython",
    "version": 3
   },
   "file_extension": ".py",
   "mimetype": "text/x-python",
   "name": "python",
   "nbconvert_exporter": "python",
   "pygments_lexer": "ipython3",
   "version": "3.10.4"
  }
 },
 "nbformat": 4,
 "nbformat_minor": 5
}
