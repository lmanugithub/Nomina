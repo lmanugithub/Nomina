{
 "cells": [
  {
   "cell_type": "code",
   "execution_count": 1,
   "id": "c9ae6a72",
   "metadata": {},
   "outputs": [],
   "source": [
    "import pandas as pd\n",
    "from cuotasimss import CuotasImss\n",
    "from imss import CalculoIMSSObrero, CalculoIMSSPatron\n",
    "from isr import ISR\n",
    "from datetime import datetime\n",
    "from sbc import SBC\n",
    "from dataimss import DataImss\n",
    "pd.options.display.float_format = '{:,.2f}'.format"
   ]
  },
  {
   "cell_type": "code",
   "execution_count": 2,
   "id": "4cd015f8",
   "metadata": {},
   "outputs": [
    {
     "data": {
      "text/plain": [
       "596.718"
      ]
     },
     "execution_count": 2,
     "metadata": {},
     "output_type": "execute_result"
    }
   ],
   "source": [
    "cuota = CalculoIMSSPatron()\n",
    "cuota.set_sdi(617)\n",
    "cuota.cuotas_pres_especie_enf_mat_cuot()"
   ]
  },
  {
   "cell_type": "code",
   "execution_count": 3,
   "id": "5fd38e7d",
   "metadata": {},
   "outputs": [
    {
     "data": {
      "text/plain": [
       "96.22"
      ]
     },
     "execution_count": 3,
     "metadata": {},
     "output_type": "execute_result"
    }
   ],
   "source": [
    "cuota._uma"
   ]
  },
  {
   "cell_type": "code",
   "execution_count": 4,
   "id": "a9f30264",
   "metadata": {},
   "outputs": [],
   "source": [
    "cuota.set_fecha_base(pd.to_datetime('2024-09-01'))"
   ]
  },
  {
   "cell_type": "code",
   "execution_count": 5,
   "id": "a9c5983c",
   "metadata": {},
   "outputs": [
    {
     "data": {
      "text/plain": [
       "999.925"
      ]
     },
     "execution_count": 5,
     "metadata": {},
     "output_type": "execute_result"
    }
   ],
   "source": [
    "cuota.cuota_cesantia_vejez()"
   ]
  },
  {
   "cell_type": "code",
   "execution_count": null,
   "id": "0ecb8322",
   "metadata": {},
   "outputs": [],
   "source": []
  },
  {
   "cell_type": "code",
   "execution_count": 38,
   "id": "5b9fbb48",
   "metadata": {},
   "outputs": [],
   "source": [
    "fecha_ingreso = pd.to_datetime('2022/8/22')\n",
    "fecha_base = pd.to_datetime('2026/12/31')"
   ]
  },
  {
   "cell_type": "code",
   "execution_count": 39,
   "id": "a2cd54de",
   "metadata": {},
   "outputs": [],
   "source": [
    "sal_bas_cot = SBC()"
   ]
  },
  {
   "cell_type": "code",
   "execution_count": 40,
   "id": "46800a07",
   "metadata": {},
   "outputs": [],
   "source": [
    "sdi=sal_bas_cot.funcion_sbc(sueldo=19500 , vales=975, a=fecha_ingreso, b=fecha_base)"
   ]
  },
  {
   "cell_type": "code",
   "execution_count": 41,
   "id": "117529e4",
   "metadata": {},
   "outputs": [
    {
     "data": {
      "text/plain": [
       "682.05"
      ]
     },
     "execution_count": 41,
     "metadata": {},
     "output_type": "execute_result"
    }
   ],
   "source": [
    "sdi"
   ]
  },
  {
   "cell_type": "code",
   "execution_count": 42,
   "id": "cb20916f",
   "metadata": {},
   "outputs": [],
   "source": [
    "trabajador = CalculoIMSSPatron()"
   ]
  },
  {
   "cell_type": "code",
   "execution_count": 43,
   "id": "010a8c49",
   "metadata": {},
   "outputs": [],
   "source": [
    "trabajador.set_fecha_base(fecha_base)\n",
    "trabajador.set_sdi(sdi)"
   ]
  },
  {
   "cell_type": "code",
   "execution_count": 44,
   "id": "05d4b90c",
   "metadata": {},
   "outputs": [
    {
     "data": {
      "text/plain": [
       "0.07513"
      ]
     },
     "execution_count": 44,
     "metadata": {},
     "output_type": "execute_result"
    }
   ],
   "source": [
    "trabajador.method_ceav()"
   ]
  },
  {
   "cell_type": "code",
   "execution_count": null,
   "id": "0e355035",
   "metadata": {},
   "outputs": [],
   "source": [
    "def vales_(vale, aumento):\n",
    "    if (vale * aumento) > 1500:\n",
    "        return 1500.0\n",
    "    else:\n",
    "        return (vale * aumento)\n",
    "    \n",
    "def imss_pt(x, date, aumento):\n",
    "    nomina = CalculoIMSSPatron()\n",
    "    nomina.set_fecha_base(date)\n",
    "    nomina.set_sdi(x)\n",
    "    nomina._uma = 96.22 * aumento\n",
    "    return nomina.total_imss()\n",
    "\n",
    "\n",
    "def imss_ob(x, aumento):\n",
    "    nomina = CalculoIMSSObrero()\n",
    "    nomina.set_sdi(x)\n",
    "    nomina._uma = 96.22 * aumento\n",
    "    return nomina.total_imss()"
   ]
  },
  {
   "cell_type": "code",
   "execution_count": null,
   "id": "36476c8c",
   "metadata": {},
   "outputs": [],
   "source": [
    "_sueldo_ = df['Sueldo mensual'].apply(lambda x: x * aumento)\n",
    "_vales_ = df['Vales'].apply(lambda x: vales_(x, aumento = 1.09))"
   ]
  }
 ],
 "metadata": {
  "kernelspec": {
   "display_name": "Python 3 (ipykernel)",
   "language": "python",
   "name": "python3"
  },
  "language_info": {
   "codemirror_mode": {
    "name": "ipython",
    "version": 3
   },
   "file_extension": ".py",
   "mimetype": "text/x-python",
   "name": "python",
   "nbconvert_exporter": "python",
   "pygments_lexer": "ipython3",
   "version": "3.10.4"
  }
 },
 "nbformat": 4,
 "nbformat_minor": 5
}
